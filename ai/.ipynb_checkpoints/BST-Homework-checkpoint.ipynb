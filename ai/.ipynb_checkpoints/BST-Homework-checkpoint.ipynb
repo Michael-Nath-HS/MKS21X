{
 "cells": [
  {
   "cell_type": "code",
   "execution_count": 8,
   "metadata": {},
   "outputs": [],
   "source": [
    "class node:\n",
    "    def __init__(self, value):\n",
    "        self.val = value\n",
    "        self.par = None\n",
    "        self.small = None\n",
    "        self.great = None"
   ]
  },
  {
   "cell_type": "code",
   "execution_count": 9,
   "metadata": {},
   "outputs": [],
   "source": [
    "class bintree:\n",
    "\n",
    "    def __init__(self,A):\n",
    "        self.root = None\n",
    "        self.insert(A[0])\n",
    "        for i in A:\n",
    "            if not self.has(i):\n",
    "                self.insert(i)\n",
    "\n",
    "    def insert(self, v):\n",
    "        anode = node(v)\n",
    "        if self.root == None:\n",
    "            self.root = anode\n",
    "        else:\n",
    "            cur = self.root\n",
    "            while True:\n",
    "                if (anode.val < cur.val) and (cur.small == None):\n",
    "                    cur.small = anode\n",
    "                    anode.par = cur\n",
    "                    return\n",
    "                if (anode.val > cur.val) and (cur.great == None):\n",
    "                    cur.great = anode\n",
    "                    anode.par = cur\n",
    "                    return\n",
    "                if (anode.val > cur.val) and (cur.great != None):\n",
    "                    cur = cur.great\n",
    "                if (anode.val < cur.val) and (cur.small != None):\n",
    "                    cur = cur.small\n",
    "                    \n",
    "    def has(self, v):\n",
    "        if self.root == None:\n",
    "            return(\"Ok, You haven't even added anything...\")\n",
    "\n",
    "        cur = self.root\n",
    "        while True:\n",
    "            if cur.val == v:\n",
    "                return True\n",
    "            elif v > cur.val and (cur.great != None):\n",
    "                cur = cur.great\n",
    "            elif v < cur.val and (cur.small != None):\n",
    "                cur = cur.small\n",
    "            else:\n",
    "                return False\n",
    "            \n",
    "    def get_ordered_list(self):\n",
    "        l = []\n",
    "        def helper(node):\n",
    "            if node.small != None:\n",
    "                helper(node.small)\n",
    "            l.append(node.val)\n",
    "            if node.great != None:\n",
    "                helper(node.great)\n",
    "        helper(self.root)\n",
    "        return l"
   ]
  },
  {
   "cell_type": "code",
   "execution_count": 11,
   "metadata": {},
   "outputs": [
    {
     "name": "stdout",
     "output_type": "stream",
     "text": [
      "Original List:\n",
      "[84, 20, 11, 3, 100, 100, 200, 84]\n",
      " \n",
      "True\n",
      "True\n",
      "True\n",
      "True\n",
      "True\n",
      "True\n",
      "True\n",
      "True\n",
      "False\n",
      "[3, 11, 20, 84, 100, 200]\n"
     ]
    }
   ],
   "source": [
    "def tester():\n",
    "    vals = [84, 20,11,3,100,100,200,84]\n",
    "    print(\"Original List:\")\n",
    "    print(vals)\n",
    "    print(\" \")\n",
    "    testTree = bintree(vals)\n",
    "    for i in vals:\n",
    "        print(testTree.has(i))\n",
    "    print(testTree.has(235465768976857))\n",
    "    print(testTree.get_ordered_list())\n",
    "    return\n",
    "tester()"
   ]
  },
  {
   "cell_type": "code",
   "execution_count": null,
   "metadata": {},
   "outputs": [],
   "source": []
  },
  {
   "cell_type": "code",
   "execution_count": null,
   "metadata": {},
   "outputs": [],
   "source": []
  }
 ],
 "metadata": {
  "kernelspec": {
   "display_name": "Python 3",
   "language": "python",
   "name": "python3"
  },
  "language_info": {
   "codemirror_mode": {
    "name": "ipython",
    "version": 3
   },
   "file_extension": ".py",
   "mimetype": "text/x-python",
   "name": "python",
   "nbconvert_exporter": "python",
   "pygments_lexer": "ipython3",
   "version": "3.7.1"
  }
 },
 "nbformat": 4,
 "nbformat_minor": 2
}
