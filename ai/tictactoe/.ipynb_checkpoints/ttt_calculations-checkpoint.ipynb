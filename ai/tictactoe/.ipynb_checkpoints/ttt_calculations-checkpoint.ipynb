{
 "cells": [
  {
   "cell_type": "code",
   "execution_count": 8,
   "metadata": {},
   "outputs": [
    {
     "name": "stdout",
     "output_type": "stream",
     "text": [
      "X________\n",
      "XO_______\n",
      "XOX______\n",
      "XOXO_____\n",
      "XOXOX____\n",
      "XOXOXO___\n",
      "XOXOXOX__\n",
      "XOXOXOXO_\n",
      "XOXOXOXOX\n",
      "9\n"
     ]
    }
   ],
   "source": [
    "# Options: x, o, _\n",
    "# Board: \"0,1,2,\n",
    "#         3,4,5,\n",
    "#         6,7,8\"\n",
    "# Board Configs: \"_,_,_,_,_,_,_,_,_\", \"_X_XO_O...\"\n",
    "# Cliques: \n",
    "# Rows: [0,1,2], [3,4,5], [6,7,8]\n",
    "# Columns: [0,3,6], [1,4,7], [2,5,8]\n",
    "# Diagonals: [0,4,8], [2,4,6]\n",
    "\n",
    "def diff_games():\n",
    "    clean = \"_________\"\n",
    "    counter = 0\n",
    "    states = set()\n",
    "    switcher = True\n",
    "    cur = list(clean)\n",
    "    for i in range(len(cur)):\n",
    "        if switcher:\n",
    "            cur[i] = \"X\" \n",
    "        else:\n",
    "            cur[i] = \"O\"\n",
    "        switcher = not switcher\n",
    "        print(\"\".join(cur))\n",
    "        states.add(\"\".join(cur))\n",
    "    return states\n",
    "\n",
    "print(diff_games())\n",
    "    "
   ]
  }
 ],
 "metadata": {
  "kernelspec": {
   "display_name": "Python 3",
   "language": "python",
   "name": "python3"
  },
  "language_info": {
   "codemirror_mode": {
    "name": "ipython",
    "version": 3
   },
   "file_extension": ".py",
   "mimetype": "text/x-python",
   "name": "python",
   "nbconvert_exporter": "python",
   "pygments_lexer": "ipython3",
   "version": "3.7.2"
  }
 },
 "nbformat": 4,
 "nbformat_minor": 2
}
