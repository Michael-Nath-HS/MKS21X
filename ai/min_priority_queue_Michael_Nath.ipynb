{
 "cells": [
  {
   "cell_type": "code",
   "execution_count": 1,
   "metadata": {},
   "outputs": [],
   "source": [
    "#1 usr/bin/python3\n",
    "from math import floor\n",
    "\n",
    "class Pqueue:\n",
    "    def OriginalComparator(a, b):\n",
    "        if a < b:\n",
    "            return -1\n",
    "        if a == b:\n",
    "            return 0\n",
    "        return 1\n",
    "\n",
    "    def __init__(self, comparator=OriginalComparator):\n",
    "        self.cmpfunc = comparator\n",
    "        self.listy = [None]\n",
    "\n",
    "    def push(self, data):\n",
    "        listy = self.listy\n",
    "        # If there are no real data in queue, just append it\n",
    "        if len(listy) == 1:\n",
    "            listy.append(data)\n",
    "            return\n",
    "\n",
    "        # Append the data to very end; Bubble it up so it satisfies the min pqueue\n",
    "        listy.append(data)\n",
    "        cur = len(listy) - 1\n",
    "        par = floor(cur / 2)\n",
    "\n",
    "        # While the parent of our appended value is greater\n",
    "        while self.cmpfunc(listy[par], listy[cur]) == 1 and listy[par] is not None:\n",
    "            # Swap\n",
    "            listy[par], listy[cur], cur = listy[cur], listy[par], par\n",
    "            if floor(cur / 2) == 0:\n",
    "                break\n",
    "            else:\n",
    "                par = floor(cur / 2)\n",
    "\n",
    "        self.listy = listy\n",
    "        return\n",
    "\n",
    "    def tolist(self):\n",
    "        return self.listy[1:]\n",
    "\n",
    "    def pop(self):\n",
    "        listy = self.listy\n",
    "\n",
    "        if len(listy) == 1:\n",
    "            return None\n",
    "        if len(listy) == 2:\n",
    "            return listy.pop()\n",
    "\n",
    "        small = listy[1]\n",
    "        listy[1] = listy[-1]\n",
    "        del(listy[-1])\n",
    "        cur = 1\n",
    "        rc = (2 * cur) + 1\n",
    "        lc = 2 * cur\n",
    "\n",
    "        while rc <= len(listy) - 1:\n",
    "            if self.cmpfunc(listy[rc], listy[lc]) == 1 and self.cmpfunc(self, listy[lc], listy[cur]) == -1:\n",
    "                listy[lc], listy[cur], cur = listy[cur], listy[lc], lc\n",
    "\n",
    "            elif self.cmpfunc(listy[rc], listy[lc]) == -1 and self.cmpfunc(self, listy[rc], listy[cur]) == -1:\n",
    "                listy[rc], listy[cur], cur = listy[cur], listy[rc], rc\n",
    "\n",
    "            elif self.cmpfunc(listy[rc], listy[lc]) == 0:\n",
    "                listy[lc], listy[cur], cur = listy[cur], listy[lc], lc\n",
    "\n",
    "            rc = (2 * cur) + 1\n",
    "            lc = 2 * cur\n",
    "        try:\n",
    "            if self.cmpfunc(listy[lc], listy[cur]) == -1:\n",
    "                listy[lc], listy[cur] = listy[cur], listy[lc]\n",
    "\n",
    "        except IndexError:\n",
    "            return small\n",
    "        return small"
   ]
  },
  {
   "cell_type": "code",
   "execution_count": 2,
   "metadata": {},
   "outputs": [],
   "source": [
    "def my_cmp(a,b):\n",
    "    if len(a) > len(b):\n",
    "        return 1\n",
    "    if len(a) < len(b):\n",
    "        return -1\n",
    "    return 0"
   ]
  },
  {
   "cell_type": "code",
   "execution_count": 3,
   "metadata": {},
   "outputs": [],
   "source": [
    "def compare(a,b):\n",
    "    a = lower(a)\n",
    "    b = lower(b)\n",
    "    if a > b:\n",
    "        return 1\n",
    "    if a == b:\n",
    "        return 0\n",
    "    return -1 "
   ]
  },
  {
   "cell_type": "code",
   "execution_count": 9,
   "metadata": {},
   "outputs": [
    {
     "name": "stdout",
     "output_type": "stream",
     "text": [
      "[98.33]\n",
      "['Why not?', '...because']\n",
      "[2, 'hello', [4, 3]]\n",
      "None\n"
     ]
    }
   ],
   "source": [
    "Fred = Pqueue(my_cmp)\n",
    "eval(\"Fred.push([2,'hello',[4,3]])\")\n",
    "eval(\"Fred.push([98.33])\")\n",
    "eval('Fred.push([\"Why not?\",\"...because\"])')\n",
    "eval('print(Fred.pop())')\n",
    "eval('print (Fred.pop())')\n",
    "eval('print (Fred.pop())')\n",
    "eval('print (Fred.pop())')"
   ]
  },
  {
   "cell_type": "code",
   "execution_count": null,
   "metadata": {},
   "outputs": [],
   "source": []
  }
 ],
 "metadata": {
  "kernelspec": {
   "display_name": "Python 3",
   "language": "python",
   "name": "python3"
  },
  "language_info": {
   "codemirror_mode": {
    "name": "ipython",
    "version": 3
   },
   "file_extension": ".py",
   "mimetype": "text/x-python",
   "name": "python",
   "nbconvert_exporter": "python",
   "pygments_lexer": "ipython3",
   "version": "3.7.1"
  }
 },
 "nbformat": 4,
 "nbformat_minor": 2
}
