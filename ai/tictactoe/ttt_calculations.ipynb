{
 "cells": [
  {
   "cell_type": "code",
   "execution_count": null,
   "metadata": {},
   "outputs": [],
   "source": [
    "# Options: x, o, _\n",
    "# Board: \"0,1,2,\n",
    "#         3,4,5,\n",
    "#         6,7,8\"\n",
    "# Board Configs: \"_,_,_,_,_,_,_,_,_\", \"_X_XO_O...\"\n",
    "# Cliques: \n",
    "# Rows: [0,1,2], [3,4,5], [6,7,8]\n",
    "# Columns: [0,3,6], [1,4,7], [2,5,8]\n",
    "# Diagonals: [0,4,8], [2,4,6]\n",
    "from random import randint\n",
    "def diff_games():\n",
    "    clean = \"_________\"\n",
    "    counter = 0\n",
    "    states = set()\n",
    "    switcher = True\n",
    "    cur = list(clean)\n",
    "    \n",
    "    for i in range(10):\n",
    "        elem = randint(0, 8)\n",
    "        while cur[elem] == \"_\":\n",
    "            elem = randint(0, 8)\n",
    "        if switcher:\n",
    "            cur[elem] = \"X\" \n",
    "        else:\n",
    "            cur[elem] = \"O\"\n",
    "        switcher = not switcher\n",
    "        states.add(\"\".join(cur))\n",
    "    return len(states)\n",
    "\n",
    "print(diff_games())\n",
    "    "
   ]
  }
 ],
 "metadata": {
  "kernelspec": {
   "display_name": "Python 3",
   "language": "python",
   "name": "python3"
  },
  "language_info": {
   "codemirror_mode": {
    "name": "ipython",
    "version": 3
   },
   "file_extension": ".py",
   "mimetype": "text/x-python",
   "name": "python",
   "nbconvert_exporter": "python",
   "pygments_lexer": "ipython3",
   "version": "3.7.2"
  }
 },
 "nbformat": 4,
 "nbformat_minor": 2
}
