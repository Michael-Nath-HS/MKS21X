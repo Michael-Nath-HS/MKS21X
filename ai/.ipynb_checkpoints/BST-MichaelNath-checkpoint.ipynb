{
 "cells": [
  {
   "cell_type": "markdown",
   "metadata": {},
   "source": [
    "<strong> <h1> my first attempt at Binary Search Trees (BSTs) </h1> </strong>\n",
    "<h6> by myself </h6>"
   ]
  },
  {
   "cell_type": "markdown",
   "metadata": {},
   "source": [
    "<div>\n",
    "    <li><h2> what's in this short notebook: </h2></li>\n",
    "    <ul>\n",
    "        <li><h6> Node Class </h6></li>\n",
    "        <li><h6> Append Method for BST </h6></li>\n",
    "        <li><h6> IsThere Method for BST </h6></li>\n",
    "        <li><h6> BTS -> Sorted List Method </h6></li>\n",
    "    </ul>"
   ]
  },
  {
   "cell_type": "markdown",
   "metadata": {},
   "source": [
    "<h2> Node Class: </h2>"
   ]
  },
  {
   "cell_type": "code",
   "execution_count": 1,
   "metadata": {},
   "outputs": [],
   "source": [
    "# the following code is how I conventionally created the node class\n",
    "\n",
    "class node:\n",
    "    def __init__(self, val):\n",
    "        self.value = val\n",
    "        self.par = None\n",
    "        self.small = None\n",
    "        self.great = None"
   ]
  },
  {
   "cell_type": "markdown",
   "metadata": {},
   "source": [
    "<h2> bintree class:</h2>"
   ]
  },
  {
   "cell_type": "code",
   "execution_count": 2,
   "metadata": {},
   "outputs": [],
   "source": [
    "# main way to create and add notes to the tree\n",
    "class bintree:\n",
    "\n",
    "    def __init__(self):\n",
    "        self.root = None\n",
    "\n",
    "    def append(self, value):\n",
    "        anode = node(value)\n",
    "        if self.root == None:\n",
    "            self.root = anode\n",
    "        else:\n",
    "            cur = self.root\n",
    "            while True:\n",
    "                if (anode.value < cur.value) and (cur.small == None):\n",
    "                    cur.small = anode\n",
    "                    anode.par = cur\n",
    "                    return\n",
    "                if (anode.value > cur.value) and (cur.great == None):\n",
    "                    cur.great = anode\n",
    "                    anode.par = cur\n",
    "                    return\n",
    "                if (anode.value > cur.value) and (cur.great != None):\n",
    "                    cur = cur.great\n",
    "                if (anode.value < cur.value) and (cur.small != None):\n",
    "                    cur = cur.small\n",
    "    def isThere(self, val):\n",
    "        if self.root == None:\n",
    "            \"Ok, You haven't even added anything...\"\n",
    "\n",
    "        cur = self.root\n",
    "        while True:\n",
    "            if cur.value == val:\n",
    "                return \"Yes this exists in the tree\"\n",
    "            elif val > cur.value and (cur.great != None):\n",
    "                cur = cur.great\n",
    "            elif val < cur.value and (cur.small != None):\n",
    "                cur = cur.small\n",
    "            else:\n",
    "                return \"This doesn't exist chief\"\n",
    "            \n",
    "    def display(self):\n",
    "        l = []\n",
    "        def helper(node):\n",
    "            if node.small != None:\n",
    "                helper(node.small)\n",
    "            l.append(node.value)\n",
    "            if node.great != None:\n",
    "                helper(node.great)\n",
    "        helper(self.root)\n",
    "        return l"
   ]
  },
  {
   "cell_type": "code",
   "execution_count": 3,
   "metadata": {},
   "outputs": [
    {
     "data": {
      "text/plain": [
       "'\\ndef append(self, value):\\n        anode = node(value)\\n        if self.root == None:\\n            self.root = anode\\n        else:\\n            cur = self.root\\n            while True:\\n                if (anode.value < cur.value) and (cur.small == None):\\n                    cur.small = anode\\n                    anode.par = cur\\n                    return\\n                if (anode.value > cur.value) and (cur.great == None):\\n                    cur.great = anode\\n                    anode.par = cur\\n                    return\\n                if (anode.value > cur.value) and (cur.great != None):\\n                    cur = cur.great\\n                if (anode.value < cur.value) and (cur.small != None):\\n                    cur = cur.small\\n                    '"
      ]
     },
     "execution_count": 3,
     "metadata": {},
     "output_type": "execute_result"
    }
   ],
   "source": [
    "# appends a node to the tree\n",
    "'''\n",
    "def append(self, value):\n",
    "        anode = node(value)\n",
    "        if self.root == None:\n",
    "            self.root = anode\n",
    "        else:\n",
    "            cur = self.root\n",
    "            while True:\n",
    "                if (anode.value < cur.value) and (cur.small == None):\n",
    "                    cur.small = anode\n",
    "                    anode.par = cur\n",
    "                    return\n",
    "                if (anode.value > cur.value) and (cur.great == None):\n",
    "                    cur.great = anode\n",
    "                    anode.par = cur\n",
    "                    return\n",
    "                if (anode.value > cur.value) and (cur.great != None):\n",
    "                    cur = cur.great\n",
    "                if (anode.value < cur.value) and (cur.small != None):\n",
    "                    cur = cur.small\n",
    "                    '''"
   ]
  },
  {
   "cell_type": "markdown",
   "metadata": {},
   "source": [
    "<h2> IsThere Method:</h2>"
   ]
  },
  {
   "cell_type": "code",
   "execution_count": 13,
   "metadata": {},
   "outputs": [],
   "source": [
    "# checks to see if a given element upon request is in the tree\n",
    "''' \n",
    "def isThere(self, val):\n",
    "    if self.root == None:\n",
    "        \"Ok, You haven't even added anything...\"\n",
    "\n",
    "    cur = self.root\n",
    "    while True:\n",
    "        if cur.value == val:\n",
    "            return \"Yes this exists in the tree\"\n",
    "        elif val > cur.value and (cur.great != None):\n",
    "            cur = cur.great\n",
    "        elif val < cur.value and (cur.small != None):\n",
    "            cur = cur.small\n",
    "        else:\n",
    "            return \"This doesn't exist chief\"\n",
    "'''"
   ]
  },
  {
   "cell_type": "markdown",
   "metadata": {},
   "source": [
    "<h2> BTS -> Sorted List Method:</h2>"
   ]
  },
  {
   "cell_type": "code",
   "execution_count": 7,
   "metadata": {},
   "outputs": [],
   "source": [
    "# takes a given binary search tree and converts it into a readable, seeable, and cool sorted list\n",
    "# done recursively\n",
    "'''\n",
    "def display(self):\n",
    "    l = []\n",
    "    def helper(node):\n",
    "        if node.small != None:\n",
    "            helper(node.small)\n",
    "        l.append(node.value)\n",
    "        if node.great != None:\n",
    "            helper(node.great)\n",
    "    helper(self.root)\n",
    "    return l\n",
    "    '''"
   ]
  },
  {
   "cell_type": "code",
   "execution_count": 4,
   "metadata": {},
   "outputs": [],
   "source": [
    "# instantiation\n",
    "binTree = bintree()"
   ]
  },
  {
   "cell_type": "code",
   "execution_count": 5,
   "metadata": {},
   "outputs": [
    {
     "name": "stdout",
     "output_type": "stream",
     "text": [
      "[84, 20, 11, 3, 100]\n"
     ]
    }
   ],
   "source": [
    "# randomly generated values that we want to append to tree\n",
    "from random import randint\n",
    "vals = [84, 20,11,3,100]\n",
    "\n",
    "print(vals)"
   ]
  },
  {
   "cell_type": "code",
   "execution_count": 6,
   "metadata": {},
   "outputs": [],
   "source": [
    "# append those randomly generated values\n",
    "\n",
    "for i in vals:\n",
    "    binTree.append(i)"
   ]
  },
  {
   "cell_type": "code",
   "execution_count": 7,
   "metadata": {},
   "outputs": [
    {
     "name": "stdout",
     "output_type": "stream",
     "text": [
      "Yes this exists in the tree\n",
      "Yes this exists in the tree\n",
      "Yes this exists in the tree\n",
      "Yes this exists in the tree\n",
      "Yes this exists in the tree\n",
      "This doesn't exist chief\n"
     ]
    }
   ],
   "source": [
    "# check if certain values are in the tree or not\n",
    "for i in vals:\n",
    "    print(binTree.isThere(i))\n",
    "print(binTree.isThere(98765346783765))"
   ]
  },
  {
   "cell_type": "code",
   "execution_count": 8,
   "metadata": {},
   "outputs": [
    {
     "name": "stdout",
     "output_type": "stream",
     "text": [
      "[3, 11, 20, 84, 100]\n"
     ]
    }
   ],
   "source": [
    "# create a sorted list\n",
    "my_sorted_list = binTree.display()\n",
    "print(my_sorted_list)"
   ]
  },
  {
   "cell_type": "code",
   "execution_count": null,
   "metadata": {},
   "outputs": [],
   "source": []
  }
 ],
 "metadata": {
  "kernelspec": {
   "display_name": "Python 3",
   "language": "python",
   "name": "python3"
  },
  "language_info": {
   "codemirror_mode": {
    "name": "ipython",
    "version": 3
   },
   "file_extension": ".py",
   "mimetype": "text/x-python",
   "name": "python",
   "nbconvert_exporter": "python",
   "pygments_lexer": "ipython3",
   "version": "3.7.1"
  }
 },
 "nbformat": 4,
 "nbformat_minor": 2
}
